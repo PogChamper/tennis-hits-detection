{
 "cells": [
  {
   "cell_type": "code",
   "execution_count": 86,
   "id": "b50e6222-e883-4601-a82d-803bd11f5853",
   "metadata": {},
   "outputs": [],
   "source": [
    "import os\n",
    "import sys\n",
    "from collections import defaultdict\n",
    "import json\n",
    "import typing as t\n",
    "\n",
    "import numpy as np\n",
    "import cv2\n",
    "from tqdm.auto import tqdm\n",
    "import matplotlib.pyplot as plt\n",
    "\n",
    "from pydantic import BaseModel"
   ]
  },
  {
   "cell_type": "code",
   "execution_count": 87,
   "id": "0cc3aa00-9241-4f73-b8da-eed8e6603183",
   "metadata": {},
   "outputs": [],
   "source": [
    "class DetectionResult(BaseModel):\n",
    "    # Имя класса\n",
    "    detection_class: str\n",
    "    # Порядковый идентификатор класса в списке классов\n",
    "    detection_class_id: int\n",
    "    # Порядковый идентификатор объекта в кадре\n",
    "    # (для модели мячей - номер кадра из входной последовательности\n",
    "    object_number: int\n",
    "    # Cырой идентификатор объекта после базового трекера (например, bytetrack)\n",
    "    track_id_raw: int\n",
    "    # Финальный идентификатор объекта после дополнительной фильтрации\n",
    "    track_id: int\n",
    "    # Уверенность в найденном объекте\n",
    "    score: float\n",
    "    # Абсолютный bbox найденного объекта\n",
    "    box: t.Optional[t.Tuple[int, int, int, int]] = None\n",
    "    # Относительный bbox найденного объекта\n",
    "    box_rel: t.Optional[t.Tuple[float, float, float, float]] = None\n",
    "    # Абсолютная x-координата центра/низа найденного объекта в кадре\n",
    "    x_frame: t.Optional[float] = None\n",
    "    # Абсолютная y-координата центра/низа найденного объекта в кадре\n",
    "    y_frame: t.Optional[float] = None\n",
    "    # Абсолютная x-координата объекта в координатах корта/поля\n",
    "    x_court: t.Optional[float] = None\n",
    "    # Абсолютная y-координата объекта в координатах корта/поля\n",
    "    y_court: t.Optional[float] = None\n",
    "    # Абсолютная z-координата объекта в координатах корта/поля\n",
    "    z_court: t.Optional[float] = None\n",
    "    # Статус видимости объекта\n",
    "    visible_status: t.Optional[int] = None\n",
    "    # Мета информация\n",
    "    meta: t.Optional[t.Dict] = None\n",
    "    # Номер кадра из демо-скриптов\n",
    "    frame_id: t.Optional[int] = None\n",
    "    # Номер камеры из демо-скриптов\n",
    "    camera_id: t.Optional[str] = None\n",
    "    # Таймштамп\n",
    "    timestamp: t.Optional[float] = None"
   ]
  },
  {
   "cell_type": "code",
   "execution_count": 6,
   "id": "698c2421-4859-48a5-be57-42d3ca0184b6",
   "metadata": {},
   "outputs": [],
   "source": [
    "def remove_ext(fname):\n",
    "    return '.'.join(fname.split('.')[:-1])"
   ]
  },
  {
   "cell_type": "markdown",
   "id": "6a5e0738-5991-4057-8f6e-5dd681231d8f",
   "metadata": {},
   "source": [
    "## Визуализация детекций мяча"
   ]
  },
  {
   "cell_type": "code",
   "execution_count": 7,
   "id": "1ab0749e-a999-4ea8-812a-bb6cbab61626",
   "metadata": {},
   "outputs": [],
   "source": [
    "video_path = '/home/ubuntu/data/videos/025958_6m47s_7m13s.mp4'\n",
    "ball_json = '/home/ubuntu/data/jsons/ball/unet_mbnv2_norelu6_576x1024_11ch_our_data_blob_det/025958_6m47s_7m13s.json'\n",
    "\n",
    "camera_id = 'camera1'\n",
    "\n",
    "with open(ball_json) as f:\n",
    "    json_data = json.load(f)\n",
    "\n",
    "ball_results_by_frame_id = defaultdict(list)\n",
    "for dets_per_frame in json_data:\n",
    "    for cur_det_per_frame in dets_per_frame:\n",
    "        if cur_det_per_frame and cur_det_per_frame['camera_id'] == camera_id and cur_det_per_frame['detection_class'] == 'm_ball':\n",
    "            obj = DetectionResult(**cur_det_per_frame)\n",
    "            frame_id = obj.frame_id\n",
    "            ball_results_by_frame_id[frame_id].append(obj)"
   ]
  },
  {
   "cell_type": "code",
   "execution_count": 8,
   "id": "9da56a23-219a-4bb5-bff7-159b508e0a1d",
   "metadata": {},
   "outputs": [
    {
     "data": {
      "text/plain": [
       "[[DetectionResult(detection_class='m_ball', detection_class_id=0, object_number=0, track_id_raw=0, track_id=0, score=0.5, box=None, box_rel=None, x_frame=998.6472778320312, y_frame=753.5253295898438, x_court=None, y_court=None, z_court=None, visible_status=None, meta=None, frame_id=0, camera_id='camera1', timestamp=0.0)],\n",
       " [DetectionResult(detection_class='m_ball', detection_class_id=0, object_number=0, track_id_raw=0, track_id=0, score=0.5, box=None, box_rel=None, x_frame=1008.6041870117188, y_frame=736.38134765625, x_court=None, y_court=None, z_court=None, visible_status=None, meta=None, frame_id=1, camera_id='camera1', timestamp=0.03333333333333333)],\n",
       " [DetectionResult(detection_class='m_ball', detection_class_id=0, object_number=2, track_id_raw=0, track_id=0, score=1.0, box=None, box_rel=None, x_frame=1016.9336547851562, y_frame=712.2769165039062, x_court=None, y_court=None, z_court=None, visible_status=None, meta=None, frame_id=2, camera_id='camera1', timestamp=0.06666666666666667)]]"
      ]
     },
     "execution_count": 8,
     "metadata": {},
     "output_type": "execute_result"
    }
   ],
   "source": [
    "list(ball_results_by_frame_id.values())[:3]"
   ]
  },
  {
   "cell_type": "code",
   "execution_count": 9,
   "id": "fe891105-9e95-4f40-89c1-2dbd4dc0e8a5",
   "metadata": {},
   "outputs": [
    {
     "data": {
      "application/vnd.jupyter.widget-view+json": {
       "model_id": "9216c5fbd820456c93758cb240c65333",
       "version_major": 2,
       "version_minor": 0
      },
      "text/plain": [
       "Processing 025958_6m47s_7m13s.mp4:   0%|          | 0/917 [00:00<?, ?frame/s]"
      ]
     },
     "metadata": {},
     "output_type": "display_data"
    }
   ],
   "source": [
    "cap = cv2.VideoCapture(video_path)\n",
    "frame_width = int(cap.get(cv2.CAP_PROP_FRAME_WIDTH))\n",
    "frame_height = int(cap.get(cv2.CAP_PROP_FRAME_HEIGHT))\n",
    "fps = int(cap.get(cv2.CAP_PROP_FPS))\n",
    "total_frames = int(cap.get(cv2.CAP_PROP_FRAME_COUNT))\n",
    "\n",
    "_, video_ext = os.path.splitext(video_path)\n",
    "\n",
    "if video_ext == '.avi':\n",
    "    fourcc = cv2.VideoWriter_fourcc(*'DIVX')\n",
    "elif video_ext == '.mp4':\n",
    "    fourcc = cv2.VideoWriter_fourcc(*'mp4v')\n",
    "    # fourcc = cv2.VideoWriter_fourcc(*'H264')\n",
    "else:\n",
    "    raise ValueError('Invalid video format.')\n",
    "\n",
    "video_writer = cv2.VideoWriter(video_path.replace(video_ext, f'preds{video_ext}'),\n",
    "                               fourcc, fps, (frame_width, frame_height))\n",
    "\n",
    "pbar = tqdm(total=total_frames, desc=f\"Processing {os.path.basename(video_path)}\", unit=\"frame\")\n",
    "\n",
    "frame_id = -1\n",
    "\n",
    "# Обработка кадров из видео\n",
    "while cap.isOpened():\n",
    "\n",
    "    ret, frame = cap.read()\n",
    "    if not ret:\n",
    "        # print('bad frame or end')\n",
    "        break\n",
    "\n",
    "    frame_id += 1\n",
    "        \n",
    "    # Отрисовка мяча\n",
    "    if frame_id in ball_results_by_frame_id.keys():\n",
    "        ball_results = ball_results_by_frame_id[frame_id]\n",
    "\n",
    "        for ball_result in ball_results:\n",
    "            ball_x = ball_result.x_frame\n",
    "            ball_y = ball_result.y_frame\n",
    "        \n",
    "            cv2.circle(frame, (int(ball_x), int(ball_y)),\n",
    "                       radius=10, color=(0, 255, 255), thickness=2)\n",
    "\n",
    "    video_writer.write(frame)\n",
    "\n",
    "    pbar.update(1)\n",
    "\n",
    "    # plt.imshow(frame[:,:,::-1])\n",
    "    # plt.show()\n",
    "    # break\n",
    "\n",
    "pbar.close()\n",
    "cap.release()\n",
    "video_writer.release()"
   ]
  }
 ],
 "metadata": {
  "kernelspec": {
   "display_name": "Python 3 (ipykernel)",
   "language": "python",
   "name": "python3"
  },
  "language_info": {
   "codemirror_mode": {
    "name": "ipython",
    "version": 3
   },
   "file_extension": ".py",
   "mimetype": "text/x-python",
   "name": "python",
   "nbconvert_exporter": "python",
   "pygments_lexer": "ipython3",
   "version": "3.12.3"
  }
 },
 "nbformat": 4,
 "nbformat_minor": 5
}
